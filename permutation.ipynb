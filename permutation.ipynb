{
 "cells": [
  {
   "cell_type": "code",
   "execution_count": 6,
   "id": "0df004ba",
   "metadata": {},
   "outputs": [
    {
     "name": "stdout",
     "output_type": "stream",
     "text": [
      "['1', '2', '3']\n",
      "['1', '3', '2']\n",
      "['2', '1', '3']\n",
      "['2', '3', '1']\n",
      "['3', '2', '1']\n",
      "['3', '1', '2']\n"
     ]
    }
   ],
   "source": [
    "def permutate(s, l, r):\n",
    "    if l == r:\n",
    "        print(s)\n",
    "    \n",
    "    for i in range(l, r):\n",
    "        s[l], s[i] = s[i], s[l]\n",
    "        result = permutate(s, l+1, r)\n",
    "        s[l], s[i] = s[i], s[l]\n",
    "        \n",
    "    \n",
    "s = '123'\n",
    "permutate(list(s), 0, len(s))"
   ]
  },
  {
   "cell_type": "code",
   "execution_count": null,
   "id": "3a27e640",
   "metadata": {},
   "outputs": [],
   "source": []
  }
 ],
 "metadata": {
  "kernelspec": {
   "display_name": "Python 3 (ipykernel)",
   "language": "python",
   "name": "python3"
  },
  "language_info": {
   "codemirror_mode": {
    "name": "ipython",
    "version": 3
   },
   "file_extension": ".py",
   "mimetype": "text/x-python",
   "name": "python",
   "nbconvert_exporter": "python",
   "pygments_lexer": "ipython3",
   "version": "3.10.9"
  }
 },
 "nbformat": 4,
 "nbformat_minor": 5
}
