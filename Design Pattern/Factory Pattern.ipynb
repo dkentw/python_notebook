{
 "cells": [
  {
   "cell_type": "markdown",
   "metadata": {},
   "source": [
    "# Facotry Method Pattern"
   ]
  },
  {
   "cell_type": "markdown",
   "metadata": {},
   "source": [
    "## Product"
   ]
  },
  {
   "cell_type": "code",
   "execution_count": 17,
   "metadata": {
    "collapsed": true
   },
   "outputs": [],
   "source": [
    "class Pizza:\n",
    "    def __init__(self):\n",
    "        self.name = ''\n",
    "        \n",
    "    def prepare(self):\n",
    "        print 'Preparing...'\n",
    "        \n",
    "    def bake(self):\n",
    "        print 'Baking...'\n",
    "        \n",
    "    def cut(self):\n",
    "        print 'Cuting...'\n",
    "        \n",
    "    def box(self):\n",
    "        print 'boxing...'\n",
    "        \n",
    "    def get_name(self):\n",
    "        return self.name"
   ]
  },
  {
   "cell_type": "code",
   "execution_count": 18,
   "metadata": {
    "collapsed": false
   },
   "outputs": [
    {
     "data": {
      "text/plain": [
       "'NY Pizza'"
      ]
     },
     "execution_count": 18,
     "metadata": {},
     "output_type": "execute_result"
    }
   ],
   "source": [
    "class NYCheesePizza(Pizza):\n",
    "    def __init__(self):\n",
    "        self.name = 'NY Cheese Pizza'\n",
    "        self.dough = 'red'\n",
    "        self.cheese = 'A'\n",
    "        \n",
    "    def cut(self):\n",
    "        print 'Cuting the pizza into circle slices...'\n",
    "        \n",
    "        \n",
    "class TWCheesePizza(Pizza):\n",
    "    def __init__(self):\n",
    "        self.name = \"Taiwan Cheese Pizza\"\n",
    "        self.dough = 'red'\n",
    "        self.cheese = 'B'\n",
    "        \n",
    "    def cut(self):\n",
    "        print 'Dont cut the pizza'\n",
    "        \n",
    "ny_pizza = NYPizza()\n",
    "ny_pizza.get_name()\n",
    "    "
   ]
  },
  {
   "cell_type": "markdown",
   "metadata": {},
   "source": [
    "## Creator"
   ]
  },
  {
   "cell_type": "code",
   "execution_count": 19,
   "metadata": {
    "collapsed": true
   },
   "outputs": [],
   "source": [
    "class PizzaStore():\n",
    "    def create_pizza(self):\n",
    "        pass\n",
    "    \n",
    "    def order_pizza(self, type):    # decide use which store\n",
    "        pizza = self.create_pizza(type)  # get its own factory\n",
    "        pizza.prepare()\n",
    "        pizza.bake()\n",
    "        pizza.cut()\n",
    "        pizza.box()\n",
    "        return pizza"
   ]
  },
  {
   "cell_type": "code",
   "execution_count": 20,
   "metadata": {
    "collapsed": true
   },
   "outputs": [],
   "source": [
    "class NYPizzaStore(PizzaStore):\n",
    "    def create_pizza(self, type):\n",
    "        # for now only one type\n",
    "        return NYCheesePizza()   # this, defer instantiation, every store can use its own style\n",
    "    \n",
    "class TWPizzaStore(PizzaStore):\n",
    "    def create_pizza(self, type):\n",
    "        # for now only one type\n",
    "        return TWCheesePizza()\n",
    "        \n"
   ]
  },
  {
   "cell_type": "code",
   "execution_count": 21,
   "metadata": {
    "collapsed": false
   },
   "outputs": [
    {
     "name": "stdout",
     "output_type": "stream",
     "text": [
      "Preparing...\n",
      "Baking...\n",
      "Dont cut the pizza\n",
      "boxing...\n"
     ]
    },
    {
     "data": {
      "text/plain": [
       "'Taiwan Cheese Pizza'"
      ]
     },
     "execution_count": 21,
     "metadata": {},
     "output_type": "execute_result"
    }
   ],
   "source": [
    "tw_store = TWPizzaStore()  # create a new factory\n",
    "pizza = tw_store.order_pizza('FFF')\n",
    "pizza.get_name()\n"
   ]
  },
  {
   "cell_type": "markdown",
   "metadata": {},
   "source": [
    "# Abstraction Factory Pattern"
   ]
  },
  {
   "cell_type": "code",
   "execution_count": 22,
   "metadata": {
    "collapsed": true
   },
   "outputs": [],
   "source": [
    "class Pizza:\n",
    "    def __init__(self):\n",
    "        self.sauce = ''\n",
    "        self.cheese = ''\n",
    "        \n",
    "    def prepare(self):\n",
    "        print 'Preparing...'\n",
    "        \n",
    "    def bake(self):\n",
    "        print 'Baking...'\n",
    "        \n",
    "    def cut(self):\n",
    "        print 'Cuting...'\n",
    "        \n",
    "    def box(self):\n",
    "        print 'boxing...'\n",
    "        \n",
    "    def get_name(self):\n",
    "        return self.name"
   ]
  },
  {
   "cell_type": "markdown",
   "metadata": {},
   "source": [
    "## Ingredient"
   ]
  },
  {
   "cell_type": "code",
   "execution_count": 32,
   "metadata": {
    "collapsed": true
   },
   "outputs": [],
   "source": [
    "class NYSauce:\n",
    "    def __init__(self):\n",
    "        self.name = \"NY Sauce\"\n",
    "\n",
    "class NYCheese:\n",
    "    def __init__(self):\n",
    "        self.name = \"NY Cheese\"\n",
    "\n",
    "class NYIngredientFactory:\n",
    "    def create_sauce(self):\n",
    "        return NYSauce()\n",
    "    \n",
    "    def create_cheese(self):\n",
    "        return NYCheese()\n",
    "    "
   ]
  },
  {
   "cell_type": "markdown",
   "metadata": {},
   "source": [
    "## Product Family"
   ]
  },
  {
   "cell_type": "code",
   "execution_count": 35,
   "metadata": {
    "collapsed": true
   },
   "outputs": [],
   "source": [
    "class NYCheesePizza(Pizza):\n",
    "    def __init__(self, ingredient_factory):\n",
    "        self.name = 'NY Cheese Pizza'\n",
    "        self.ingredient = ingredient_factory  # ingredient be vary\n",
    "        \n",
    "    def prepare(self):\n",
    "        self.sauce = self.ingredient.create_sauce()\n",
    "        self.cheese = self.ingredient.create_cheese()\n",
    "        print 'Ingredient: ' + self.sauce.name + ', ' + self.cheese.name\n",
    "        \n",
    "    def cut(self):\n",
    "        print 'Cuting the pizza into circle slices...'"
   ]
  },
  {
   "cell_type": "markdown",
   "metadata": {},
   "source": [
    "## Creator/Client"
   ]
  },
  {
   "cell_type": "code",
   "execution_count": 30,
   "metadata": {
    "collapsed": true
   },
   "outputs": [],
   "source": [
    "class NYPizzaStore(PizzaStore):\n",
    "    def create_pizza(self, type):\n",
    "        # for now only one type\n",
    "        ingredient = NYIngredientFactory()\n",
    "        pizza = NYCheesePizza(ingredient)\n",
    "        return pizza   # this, defer instantiation, every store can use its own style"
   ]
  },
  {
   "cell_type": "code",
   "execution_count": 33,
   "metadata": {
    "collapsed": false
   },
   "outputs": [
    {
     "name": "stdout",
     "output_type": "stream",
     "text": [
      "Ingredient: NY Sauce, NY Cheese\n",
      "Baking...\n",
      "Cuting the pizza into circle slices...\n",
      "boxing...\n"
     ]
    },
    {
     "data": {
      "text/plain": [
       "'NY Cheese Pizza'"
      ]
     },
     "execution_count": 33,
     "metadata": {},
     "output_type": "execute_result"
    }
   ],
   "source": [
    "ny_store = NYPizzaStore()\n",
    "pizza = ny_store.order_pizza('XXX')\n",
    "pizza.get_name()"
   ]
  },
  {
   "cell_type": "code",
   "execution_count": null,
   "metadata": {
    "collapsed": true
   },
   "outputs": [],
   "source": []
  }
 ],
 "metadata": {
  "kernelspec": {
   "display_name": "Python 2",
   "language": "python",
   "name": "python2"
  },
  "language_info": {
   "codemirror_mode": {
    "name": "ipython",
    "version": 2
   },
   "file_extension": ".py",
   "mimetype": "text/x-python",
   "name": "python",
   "nbconvert_exporter": "python",
   "pygments_lexer": "ipython2",
   "version": "2.7.9"
  }
 },
 "nbformat": 4,
 "nbformat_minor": 0
}
