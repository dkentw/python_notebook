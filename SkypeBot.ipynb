{
 "metadata": {
  "name": "SkypeBot"
 },
 "nbformat": 3,
 "nbformat_minor": 0,
 "worksheets": [
  {
   "cells": [
    {
     "cell_type": "code",
     "collapsed": false,
     "input": [
      "#!/usr/bin/python\n",
      "import re\n",
      "import datetime\n",
      "import time\n",
      "import logging\n",
      "import traceback\n",
      "\n",
      "import Skype4Py\n",
      "from Skype4Py.api.posix_x11 import threads_init"
     ],
     "language": "python",
     "metadata": {},
     "outputs": []
    },
    {
     "cell_type": "code",
     "collapsed": false,
     "input": [
      "class Skypebot:\n",
      "    def __init__(self):\n",
      "        self.skype = Skype4Py.Skype(Transport='x11', Events=self)    # need 'x11' on linux\n",
      "        self.skype.FriendlyName = \"Skype Bot\"\n",
      "        self.skype.Attach()\n",
      "        self.wrs = AsyncWRSCollector()\n",
      "\n",
      "    def MessageStatus(self, msg, status):\n",
      "        print 'status: ' + status\n",
      "        print 'msgbody: ' + msg.Body\n",
      "\n",
      "        if status == 'READ' or status == 'SENT':\n",
      "            for regexp, target in self.commands.items():\n",
      "                match = re.match(regexp, msg.Body, re.IGNORECASE)\n",
      "\n",
      "                if match:\n",
      "                    reply = target(self, match.group(0))\n",
      "                    if reply:\n",
      "                        msg.Chat.SendMessage(reply)\n",
      "                    break\n",
      "                    \n",
      "    def parse_url(self, url):\n",
      "        reply = '[' + url + ']'\n",
      "        return reply\n",
      "        \n",
      "    def parse_ip(self, ip):\n",
      "        reply = '[' + ip + ']'\n",
      "        return reply\n",
      "\n",
      "    commands = {\n",
      "                '^http://(.*)': parse_url,\n",
      "                '^https://.*': parse_url,\n",
      "                '\\d+\\.\\d+\\.\\d+\\.\\d+': parse_ip,\n",
      "                }"
     ],
     "language": "python",
     "metadata": {},
     "outputs": []
    },
    {
     "cell_type": "code",
     "collapsed": false,
     "input": [
      "if __name__ == \"__main__\":\n",
      "    bot = Skypebot()\n",
      "      \n",
      "    while(True):\n",
      "        time.sleep(1)\n",
      "        pass"
     ],
     "language": "python",
     "metadata": {},
     "outputs": []
    }
   ],
   "metadata": {}
  }
 ]
}