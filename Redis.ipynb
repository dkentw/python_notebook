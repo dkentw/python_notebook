{
 "metadata": {
  "name": "Redis"
 },
 "nbformat": 3,
 "nbformat_minor": 0,
 "worksheets": [
  {
   "cells": [
    {
     "cell_type": "markdown",
     "metadata": {},
     "source": [
      "#Data Structure - hash\n",
      "key, field, value, field, value, ......"
     ]
    },
    {
     "cell_type": "code",
     "collapsed": false,
     "input": [
      "import redis"
     ],
     "language": "python",
     "metadata": {},
     "outputs": [],
     "prompt_number": 2
    },
    {
     "cell_type": "code",
     "collapsed": false,
     "input": [
      "r = redis.StrictRedis(host='localhost', port=6379, db=0)"
     ],
     "language": "python",
     "metadata": {},
     "outputs": [],
     "prompt_number": 3
    },
    {
     "cell_type": "code",
     "collapsed": false,
     "input": [
      "r.hset('realman', 'dken', 'just a boy')\n",
      "r.hset('hotman', 'kent', 'just a man')"
     ],
     "language": "python",
     "metadata": {},
     "outputs": [
      {
       "output_type": "pyout",
       "prompt_number": 19,
       "text": [
        "1L"
       ]
      }
     ],
     "prompt_number": 19
    },
    {
     "cell_type": "raw",
     "metadata": {},
     "source": [
      "# hgetall will return a dictionary\n",
      "\n",
      "    'realman': {'dken': 'just a boy'},\n",
      "    'hotman':{ 'kent': 'just a man' }\n"
     ]
    },
    {
     "cell_type": "code",
     "collapsed": false,
     "input": [
      "print r.hgetall('hotman')\n",
      "print r.hgetall('realman')"
     ],
     "language": "python",
     "metadata": {},
     "outputs": [
      {
       "output_type": "stream",
       "stream": "stdout",
       "text": [
        "{'kent': 'just a man'}\n",
        "{'dken': 'just a boy'}\n"
       ]
      }
     ],
     "prompt_number": 24
    },
    {
     "cell_type": "code",
     "collapsed": false,
     "input": [
      "r.hset('realman', 'lux', 'im girl')\n",
      "result = r.hgetall('realman')\n",
      "print result"
     ],
     "language": "python",
     "metadata": {},
     "outputs": [
      {
       "output_type": "stream",
       "stream": "stdout",
       "text": [
        "{'lux': 'im girl', 'dken': 'just a boy'}\n"
       ]
      }
     ],
     "prompt_number": 30
    },
    {
     "cell_type": "code",
     "collapsed": false,
     "input": [
      "print result['lux']\n",
      "print result['dken']"
     ],
     "language": "python",
     "metadata": {},
     "outputs": [
      {
       "output_type": "stream",
       "stream": "stdout",
       "text": [
        "im girl\n",
        "just a boy\n"
       ]
      }
     ],
     "prompt_number": 31
    },
    {
     "cell_type": "code",
     "collapsed": false,
     "input": [
      "print r.hlen('realman')\n",
      "print r.hlen('fakeman')"
     ],
     "language": "python",
     "metadata": {},
     "outputs": [
      {
       "output_type": "stream",
       "stream": "stdout",
       "text": [
        "2\n",
        "0\n"
       ]
      }
     ],
     "prompt_number": 34
    },
    {
     "cell_type": "code",
     "collapsed": false,
     "input": [],
     "language": "python",
     "metadata": {},
     "outputs": []
    }
   ],
   "metadata": {}
  }
 ]
}