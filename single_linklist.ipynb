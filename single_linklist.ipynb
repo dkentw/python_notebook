{
 "cells": [
  {
   "cell_type": "code",
   "execution_count": 3,
   "id": "6d40b744",
   "metadata": {},
   "outputs": [
    {
     "name": "stdout",
     "output_type": "stream",
     "text": [
      "1\n",
      "2\n"
     ]
    }
   ],
   "source": [
    "class Node:\n",
    "    def __init__(self, value, next):\n",
    "        self.value = value\n",
    "        self.next = next\n",
    "        \n",
    "class NodeList:\n",
    "    def __init__(self):\n",
    "        self.root = None\n",
    "        self.current = None\n",
    "\n",
    "    def add(self, value):\n",
    "        if self.root is None:\n",
    "            self.root = Node(value, None)\n",
    "            self.current = self.root\n",
    "        else:\n",
    "            self.current.next = Node(value, None)\n",
    "            self.current = self.current.next\n",
    "            \n",
    "    def traverse(self):\n",
    "        current = self.root\n",
    "        while current is not None:\n",
    "            print(current.value)\n",
    "            current = current.next\n",
    "            \n",
    "            \n",
    "node_list = NodeList()\n",
    "node_list.add(1)\n",
    "node_list.add(2)\n",
    "\n",
    "node_list.traverse()"
   ]
  },
  {
   "cell_type": "code",
   "execution_count": null,
   "id": "97d5af73",
   "metadata": {},
   "outputs": [],
   "source": []
  }
 ],
 "metadata": {
  "kernelspec": {
   "display_name": "Python 3 (ipykernel)",
   "language": "python",
   "name": "python3"
  },
  "language_info": {
   "codemirror_mode": {
    "name": "ipython",
    "version": 3
   },
   "file_extension": ".py",
   "mimetype": "text/x-python",
   "name": "python",
   "nbconvert_exporter": "python",
   "pygments_lexer": "ipython3",
   "version": "3.10.9"
  }
 },
 "nbformat": 4,
 "nbformat_minor": 5
}
