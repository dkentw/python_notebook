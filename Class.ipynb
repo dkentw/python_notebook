{
 "cells": [
  {
   "cell_type": "markdown",
   "metadata": {},
   "source": [
    "# Introduction"
   ]
  },
  {
   "cell_type": "code",
   "execution_count": 6,
   "metadata": {
    "collapsed": false
   },
   "outputs": [
    {
     "name": "stdout",
     "output_type": "stream",
     "text": [
      "<__main__.RobotII instance at 0x10d05a0e0>\n",
      "I can run!\n",
      "I can jump!\n"
     ]
    }
   ],
   "source": [
    "class RobotI:\n",
    "    def __init__(self, id):\n",
    "        self.id = id\n",
    "        \n",
    "    def jump(self):\n",
    "        print 'I can jump!'\n",
    "        \n",
    "class RobotII(RobotI):\n",
    "    def __init__(self, id):\n",
    "        print self\n",
    "        self.alias = id\n",
    "        \n",
    "    def run(self):\n",
    "        print self\n",
    "        print 'I can run!'\n",
    "        \n",
    "\n",
    "robot.run()\n",
    "robot.jump()"
   ]
  },
  {
   "cell_type": "markdown",
   "metadata": {},
   "source": [
    "## Class object"
   ]
  },
  {
   "cell_type": "code",
   "execution_count": 4,
   "metadata": {
    "collapsed": false
   },
   "outputs": [
    {
     "name": "stdout",
     "output_type": "stream",
     "text": [
      "__main__.RobotI\n",
      "<type 'classobj'>\n"
     ]
    }
   ],
   "source": [
    "print RobotI\n",
    "print type(RobotI)"
   ]
  },
  {
   "cell_type": "markdown",
   "metadata": {},
   "source": [
    "## Instance object"
   ]
  },
  {
   "cell_type": "code",
   "execution_count": 5,
   "metadata": {
    "collapsed": false
   },
   "outputs": [
    {
     "name": "stdout",
     "output_type": "stream",
     "text": [
      "<__main__.RobotII instance at 0x10d05a0e0>\n",
      "<type 'instance'>\n",
      "dken\n"
     ]
    }
   ],
   "source": [
    "robot = RobotII('dken')\n",
    "print type(robot)\n",
    "print robot.alias"
   ]
  },
  {
   "cell_type": "markdown",
   "metadata": {},
   "source": [
    "#Operator Overloading"
   ]
  },
  {
   "cell_type": "code",
   "execution_count": 29,
   "metadata": {
    "collapsed": false
   },
   "outputs": [
    {
     "name": "stdout",
     "output_type": "stream",
     "text": [
      "AX\n",
      "True\n",
      "what?!\n"
     ]
    }
   ],
   "source": [
    "class RobotIII(RobotII):\n",
    "    def __init__(self, data):\n",
    "        self.data = data\n",
    "    def __add__(self, another):\n",
    "        if isinstance(another, RobotI):\n",
    "            return RobotIII(self.data + another.data)\n",
    "        else:\n",
    "            print 'Add operator only support object + object!'\n",
    "            return RobotIII(self.data)\n",
    "    def __str__(self):\n",
    "        return 'what?!'\n",
    "    \n",
    "robot = RobotIII('A')\n",
    "robot2 = RobotIII('X')\n",
    "new_robot =  robot + robot2\n",
    "print new_robot.data\n",
    "print isinstance(robot, object)\n",
    "print robot"
   ]
  },
  {
   "cell_type": "code",
   "execution_count": 4,
   "metadata": {
    "collapsed": false
   },
   "outputs": [
    {
     "name": "stdout",
     "output_type": "stream",
     "text": [
      "dken\n",
      "{'name': 'grace'}\n"
     ]
    }
   ],
   "source": [
    "a = {\n",
    "    'name': 'dken',\n",
    "    'power': 0\n",
    "}\n",
    "print a['name']\n",
    "\n",
    "b = {}\n",
    "b['name'] = 'grace'\n",
    "print b"
   ]
  },
  {
   "cell_type": "code",
   "execution_count": 6,
   "metadata": {
    "collapsed": false
   },
   "outputs": [
    {
     "name": "stdout",
     "output_type": "stream",
     "text": [
      "__main__.Person\n",
      "<type 'classobj'>\n",
      "<__main__.Person instance at 0x1098837e8>\n",
      "<type 'instance'>\n"
     ]
    }
   ],
   "source": [
    "class Person: pass\n",
    "new_person = Person()\n",
    "new_person.name = 'dken'\n",
    "new_person.age = '10'\n",
    "\n",
    "print Person\n",
    "print type(Person)\n",
    "\n",
    "print new_person\n",
    "print type(new_person)"
   ]
  },
  {
   "cell_type": "code",
   "execution_count": null,
   "metadata": {
    "collapsed": true
   },
   "outputs": [],
   "source": []
  }
 ],
 "metadata": {
  "kernelspec": {
   "display_name": "Python 2",
   "language": "python",
   "name": "python2"
  },
  "language_info": {
   "codemirror_mode": {
    "name": "ipython",
    "version": 2
   },
   "file_extension": ".py",
   "mimetype": "text/x-python",
   "name": "python",
   "nbconvert_exporter": "python",
   "pygments_lexer": "ipython2",
   "version": "2.7.9"
  }
 },
 "nbformat": 4,
 "nbformat_minor": 0
}
