{
 "metadata": {
  "name": "List Comprehensions"
 },
 "nbformat": 3,
 "nbformat_minor": 0,
 "worksheets": [
  {
   "cells": [
    {
     "cell_type": "code",
     "collapsed": false,
     "input": [
      "!ls\n"
     ],
     "language": "python",
     "metadata": {},
     "outputs": [
      {
       "output_type": "stream",
       "stream": "stdout",
       "text": [
        "* and ** in function.ipynb  README.md  Simple Hash.ipynb  Untitled0.ipynb\r\n"
       ]
      }
     ],
     "prompt_number": 1
    },
    {
     "cell_type": "code",
     "collapsed": false,
     "input": [
      "!ls -al"
     ],
     "language": "python",
     "metadata": {},
     "outputs": [
      {
       "output_type": "stream",
       "stream": "stdout",
       "text": [
        "total 28\r\n",
        "drwxr-xr-x.  3 kent kent 4096 Jul 12 11:01 .\r\n",
        "drwxrwxr-x. 13 kent kent 4096 Jul 12 10:59 ..\r\n",
        "-rw-rw-r--.  1 kent kent 2582 Jul 12 11:01 * and ** in function.ipynb\r\n",
        "drwxrwxr-x.  8 kent kent 4096 Jul 12 11:42 .git\r\n",
        "-rw-rw-r--.  1 kent kent   32 Jul 12 10:59 README.md\r\n",
        "-rw-rw-r--.  1 kent kent 1971 Jul 12 11:01 Simple Hash.ipynb\r\n",
        "-rw-rw-r--.  1 kent kent  100 Jul 12 11:01 Untitled0.ipynb\r\n"
       ]
      }
     ],
     "prompt_number": 2
    },
    {
     "cell_type": "raw",
     "metadata": {},
     "source": [
      "Table 4-1. Built-in objects preview\n",
      "Object type Example literals/creation\n",
      "Numbers 1234, 3.1415, 3+4j, Decimal, Fraction\n",
      "Strings 'spam', \"guido's\", b'a\\x01c'\n",
      "Lists [1, [2, 'three'], 4]\n",
      "Dictionaries {'food': 'spam', 'taste': 'yum'}\n",
      "Tuples (1, 'spam', 4, 'U')\n",
      "Files myfile = open('eggs', 'r')\n",
      "Sets set('abc'), {'a', 'b', 'c'}\n",
      "Other core types Booleans, types, None\n",
      "Program unit types Functions, modules, classes (Part IV, Part V, Part VI)\n",
      "Implementation-related types Compiled code, stack tracebacks (Part IV, Part VII)"
     ]
    }
   ],
   "metadata": {}
  }
 ]
}