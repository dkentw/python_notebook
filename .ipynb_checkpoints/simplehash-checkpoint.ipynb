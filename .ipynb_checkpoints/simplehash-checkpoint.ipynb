{
 "cells": [
  {
   "cell_type": "code",
   "execution_count": 13,
   "id": "131a18c8",
   "metadata": {},
   "outputs": [],
   "source": [
    "import hashlib\n",
    "sha1 = '7110eda4d09e062aa5e4a390b0a572ac0d2c0220' "
   ]
  },
  {
   "cell_type": "code",
   "execution_count": 26,
   "id": "b69b61cb",
   "metadata": {},
   "outputs": [],
   "source": [
    "class SimpleHash:\n",
    "    '''sha224(), sha256(), sha384(), and sha512()\n",
    "    '''\n",
    "    def sha1(self, str):\n",
    "        return hashlib.sha1(str).hexdigest()\n",
    "    \n",
    "    def md5(self, str):\n",
    "        return hashlib.md5(str).hexdigest()\n",
    "    \n",
    "    def sha256(self, str):\n",
    "        return hashlib.sha256(str).hexdigest()\n",
    "    \n",
    "    def sha224(self, str):\n",
    "        return hashlib.sha224(str).hexdigest()\n",
    "    \n",
    "    def sha384(self, str):\n",
    "        return hashlib.sha384(str).hexdigest()\n",
    "    \n",
    "    def sha512(self, str):\n",
    "        return hashlib.sha512(str).hexdigest()"
   ]
  },
  {
   "cell_type": "code",
   "execution_count": 29,
   "id": "bfdec1cb",
   "metadata": {},
   "outputs": [
    {
     "name": "stdout",
     "output_type": "stream",
     "text": [
      "81dc9bdb52d04dc20036dbd8313ed055\n",
      "7110eda4d09e062aa5e4a390b0a572ac0d2c0220\n",
      "03ac674216f3e15c761ee1a5e255f067953623c8b388b4459e13f978d7c846f4\n"
     ]
    }
   ],
   "source": [
    "simplehash = SimpleHash()\n",
    "print simplehash.md5('1234')\n",
    "print simplehash.sha1('1234')\n",
    "print simplehash.sha256('1234')\n"
   ]
  }
 ],
 "metadata": {
  "kernelspec": {
   "display_name": "Python 3 (ipykernel)",
   "language": "python",
   "name": "python3"
  },
  "language_info": {
   "codemirror_mode": {
    "name": "ipython",
    "version": 3
   },
   "file_extension": ".py",
   "mimetype": "text/x-python",
   "name": "python",
   "nbconvert_exporter": "python",
   "pygments_lexer": "ipython3",
   "version": "3.10.9"
  }
 },
 "nbformat": 4,
 "nbformat_minor": 1
}
