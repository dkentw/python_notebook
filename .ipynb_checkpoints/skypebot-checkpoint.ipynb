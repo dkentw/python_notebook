{
 "cells": [
  {
   "cell_type": "code",
   "execution_count": null,
   "id": "1b7d7d99",
   "metadata": {},
   "outputs": [],
   "source": [
    "#!/usr/bin/python\n",
    "import re\n",
    "import datetime\n",
    "import time\n",
    "import logging\n",
    "import traceback\n",
    "\n",
    "import Skype4Py\n",
    "from Skype4Py.api.posix_x11 import threads_init"
   ]
  },
  {
   "cell_type": "code",
   "execution_count": null,
   "id": "4b573181",
   "metadata": {},
   "outputs": [],
   "source": [
    "class Skypebot:\n",
    "    def __init__(self):\n",
    "        self.skype = Skype4Py.Skype(Transport='x11', Events=self)    # need 'x11' on linux\n",
    "        self.skype.FriendlyName = \"Skype Bot\"\n",
    "        self.skype.Attach()\n",
    "        self.wrs = AsyncWRSCollector()\n",
    "\n",
    "    def MessageStatus(self, msg, status):\n",
    "        print 'status: ' + status\n",
    "        print 'msgbody: ' + msg.Body\n",
    "\n",
    "        if status == 'READ' or status == 'SENT':\n",
    "            for regexp, target in self.commands.items():\n",
    "                match = re.match(regexp, msg.Body, re.IGNORECASE)\n",
    "\n",
    "                if match:\n",
    "                    reply = target(self, match.group(0))\n",
    "                    if reply:\n",
    "                        msg.Chat.SendMessage(reply)\n",
    "                    break\n",
    "                    \n",
    "    def parse_url(self, url):\n",
    "        reply = '[' + url + ']'\n",
    "        return reply\n",
    "        \n",
    "    def parse_ip(self, ip):\n",
    "        reply = '[' + ip + ']'\n",
    "        return reply\n",
    "\n",
    "    commands = {\n",
    "                '^http://(.*)': parse_url,\n",
    "                '^https://.*': parse_url,\n",
    "                '\\d+\\.\\d+\\.\\d+\\.\\d+': parse_ip,\n",
    "                }"
   ]
  },
  {
   "cell_type": "code",
   "execution_count": null,
   "id": "016ef8e8",
   "metadata": {},
   "outputs": [],
   "source": [
    "if __name__ == \"__main__\":\n",
    "    bot = Skypebot()\n",
    "      \n",
    "    while(True):\n",
    "        time.sleep(1)\n",
    "        pass"
   ]
  }
 ],
 "metadata": {
  "kernelspec": {
   "display_name": "Python 3 (ipykernel)",
   "language": "python",
   "name": "python3"
  },
  "language_info": {
   "codemirror_mode": {
    "name": "ipython",
    "version": 3
   },
   "file_extension": ".py",
   "mimetype": "text/x-python",
   "name": "python",
   "nbconvert_exporter": "python",
   "pygments_lexer": "ipython3",
   "version": "3.10.9"
  }
 },
 "nbformat": 4,
 "nbformat_minor": 1
}
