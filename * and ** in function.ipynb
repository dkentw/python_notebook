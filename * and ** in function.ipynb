{
 "metadata": {
  "name": "* and ** in function"
 },
 "nbformat": 3,
 "nbformat_minor": 0,
 "worksheets": [
  {
   "cells": [
    {
     "cell_type": "markdown",
     "metadata": {},
     "source": [
      "# * and ** in function argument"
     ]
    },
    {
     "cell_type": "markdown",
     "metadata": {},
     "source": [
      "There are two special type of argument, that are '*' and '**'.\n",
      "\n",
      "* '*' is mean an 'tuple' of additional argument\n",
      "* '**' is mean an 'dictionary' of additional argument"
     ]
    },
    {
     "cell_type": "code",
     "collapsed": false,
     "input": [
      "cmdclass = dict(test='TestCommand')\n",
      "kw = dict(cmdclass=cmdclass)\n",
      "print kw"
     ],
     "language": "python",
     "metadata": {},
     "outputs": [
      {
       "output_type": "stream",
       "stream": "stdout",
       "text": [
        "{'cmdclass': {'test': 'TestCommand'}}\n"
       ]
      }
     ],
     "prompt_number": 55
    },
    {
     "cell_type": "code",
     "collapsed": false,
     "input": [
      "def cmd(data, *option, **arg):\n",
      "    print option\n",
      "    print arg"
     ],
     "language": "python",
     "metadata": {},
     "outputs": [],
     "prompt_number": 56
    },
    {
     "cell_type": "code",
     "collapsed": false,
     "input": [
      "cmd('test', 'option1', 'option2', **kw)"
     ],
     "language": "python",
     "metadata": {},
     "outputs": [
      {
       "output_type": "stream",
       "stream": "stdout",
       "text": [
        "('option1', 'option2')\n",
        "{'cmdclass': {'test': 'TestCommand'}}\n"
       ]
      }
     ],
     "prompt_number": 54
    },
    {
     "cell_type": "code",
     "collapsed": false,
     "input": [
      "option = ('option1', 'option2')\n",
      "cmd('test', *option, **kw)"
     ],
     "language": "python",
     "metadata": {},
     "outputs": [
      {
       "output_type": "stream",
       "stream": "stdout",
       "text": [
        "('option1', 'option2')\n",
        "{'cmdclass': {'test': 'TestCommand'}}\n"
       ]
      }
     ],
     "prompt_number": 61
    },
    {
     "cell_type": "code",
     "collapsed": false,
     "input": [
      "cmd('test', option, kw)"
     ],
     "language": "python",
     "metadata": {},
     "outputs": [
      {
       "output_type": "stream",
       "stream": "stdout",
       "text": [
        "(('option1', 'option2'), {'cmdclass': {'test': 'TestCommand'}})\n",
        "{}\n"
       ]
      }
     ],
     "prompt_number": 62
    }
   ],
   "metadata": {}
  }
 ]
}