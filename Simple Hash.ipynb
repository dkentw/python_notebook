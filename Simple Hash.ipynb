{
 "metadata": {
  "name": "Simple Hash"
 },
 "nbformat": 3,
 "nbformat_minor": 0,
 "worksheets": [
  {
   "cells": [
    {
     "cell_type": "code",
     "collapsed": false,
     "input": [
      "import hashlib\n",
      "sha1 = '7110eda4d09e062aa5e4a390b0a572ac0d2c0220' "
     ],
     "language": "python",
     "metadata": {},
     "outputs": [],
     "prompt_number": 13
    },
    {
     "cell_type": "code",
     "collapsed": false,
     "input": [
      "class SimpleHash:\n",
      "    '''sha224(), sha256(), sha384(), and sha512()\n",
      "    '''\n",
      "    def sha1(self, str):\n",
      "        return hashlib.sha1(str).hexdigest()\n",
      "    \n",
      "    def md5(self, str):\n",
      "        return hashlib.md5(str).hexdigest()\n",
      "    \n",
      "    def sha256(self, str):\n",
      "        return hashlib.sha256(str).hexdigest()\n",
      "    \n",
      "    def sha224(self, str):\n",
      "        return hashlib.sha224(str).hexdigest()\n",
      "    \n",
      "    def sha384(self, str):\n",
      "        return hashlib.sha384(str).hexdigest()\n",
      "    \n",
      "    def sha512(self, str):\n",
      "        return hashlib.sha512(str).hexdigest()"
     ],
     "language": "python",
     "metadata": {},
     "outputs": [],
     "prompt_number": 26
    },
    {
     "cell_type": "code",
     "collapsed": false,
     "input": [
      "simplehash = SimpleHash()\n",
      "print simplehash.md5('1234')\n",
      "print simplehash.sha1('1234')\n",
      "print simplehash.sha256('1234')"
     ],
     "language": "python",
     "metadata": {},
     "outputs": [
      {
       "output_type": "stream",
       "stream": "stdout",
       "text": [
        "81dc9bdb52d04dc20036dbd8313ed055\n",
        "7110eda4d09e062aa5e4a390b0a572ac0d2c0220\n",
        "03ac674216f3e15c761ee1a5e255f067953623c8b388b4459e13f978d7c846f4\n"
       ]
      }
     ],
     "prompt_number": 29
    }
   ],
   "metadata": {}
  }
 ]
}