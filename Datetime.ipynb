{
 "metadata": {
  "name": "Datetime"
 },
 "nbformat": 3,
 "nbformat_minor": 0,
 "worksheets": [
  {
   "cells": [
    {
     "cell_type": "markdown",
     "metadata": {},
     "source": [
      "#Datetime\n",
      "\n",
      "There are three major types of datetime\n",
      "\n",
      "* date\n",
      "* time\n",
      "* datetime"
     ]
    },
    {
     "cell_type": "code",
     "collapsed": false,
     "input": [
      "from datetime import date\n",
      "from datetime import time\n",
      "from datetime import datetime"
     ],
     "language": "python",
     "metadata": {},
     "outputs": [],
     "prompt_number": 40
    },
    {
     "cell_type": "code",
     "collapsed": false,
     "input": [
      "print date(2013, 9, 22)\n",
      "print datetime(2013, 9, 22)\n",
      "print time(23, 9 , 22)"
     ],
     "language": "python",
     "metadata": {},
     "outputs": [
      {
       "output_type": "stream",
       "stream": "stdout",
       "text": [
        "2013-09-22\n",
        "2013-09-22 00:00:00\n",
        "23:09:22\n"
       ]
      }
     ],
     "prompt_number": 41
    },
    {
     "cell_type": "markdown",
     "metadata": {},
     "source": [
      "#Introduction\n",
      "\u001b\u4e3b\u8981\u7684\u6642\u9593\u8868\u793a\u6709\u5e7e\u7a2e\u683c\u5f0f\n",
      "\n",
      "* \u4eba\u985e\u5bb9\u6613\u61c2\u7684\u5b57\u4e32\u683c\u5f0f, ex: 2007-03-04 20:32:17\n",
      "* \u770b\u4e0d\u592a\u61c2, \u4f46\u662f\u5f88\u9069\u5408 DB \u7528\u7684 unix timestemp, \u4ee5\u79d2\u4f86\u8a08, ex: 1373900219.113\n",
      "* \u53c3\u8003: <http://en.wikipedia.org/wiki/ISO_8601>\n",
      "\n",
      "\u5927\u90e8\u4efd\u6703\u78b0\u5230\u7684\u60c5\u5f62\u90fd\u662f\u5b57\u4e32\u548cunix timestemp\u4e92\u8f49, \u800c\u4e14\u90fd\u662f UTC.\n",
      "\n",
      "Note. \u4e0d\u7ba1\u524d\u7aef\u5982\u4f55\u986f\u793a\u65e5\u671f\u6642\u9593, \u5728\u7a0b\u5f0f\u88e1\u6700\u597d\u7528\u7d71\u4e00\u7528 iso \u7684\u683c\u5f0f, \u4e0d\u7136\u591a\u4eba cowork \u6703\u51fa\u73fe\u6df7\u4e82."
     ]
    },
    {
     "cell_type": "markdown",
     "metadata": {},
     "source": [
      "## Python \u8655\u7406\u539f\u5247\n",
      "python \u8655\u7406\u6642\u9593\u7684\u539f\u5247\u90fd\u662f\u5c07\u5176\u8f49\u63db\u6210 **object**, \u8f49\u6210 object \u5f8c\u6709\u4e00\u5806 method \u53ef\u4ee5\u64cd\u4f5c, \u7576\u7136\u4e5f\u5305\u542b\u6642\u9593\u683c\u5f0f\u7684\u8f49\u63db.\n",
      "\n",
      "###\u521d\u59cb\u5316\u7684\u65b9\u5f0f"
     ]
    },
    {
     "cell_type": "code",
     "collapsed": false,
     "input": [
      "from datetime import datetime\n",
      "\n",
      "dt = datetime(2013, 9, 22)    # \u76f4\u63a5\u521d\u59cb\u5316 Local datetime\n",
      "dt_string = datetime.strptime('2013-9-22', '%Y-%m-%d')  # \u7d66\u4e00\u500b\u5b57\u4e32, \u4e26\u6307\u5b9a\u683c\u5f0f\u53bb parse \u5b83\n",
      "\n",
      "print dt\n",
      "print dt_string"
     ],
     "language": "python",
     "metadata": {},
     "outputs": [
      {
       "output_type": "stream",
       "stream": "stdout",
       "text": [
        "2013-09-22 00:00:00\n",
        "2013-09-22 00:00:00\n"
       ]
      }
     ],
     "prompt_number": 13
    },
    {
     "cell_type": "markdown",
     "metadata": {},
     "source": [
      "### \u5b57\u4e32\u8f49\u6210 timestemp\n",
      "<http://docs.python.org/2/library/time.html>\n",
      "\n",
      "* ```time.mktime(tuple)``` ```:``` tuple? \u5176\u5be6\u5c31\u662f struct_time, \u7528\u5b83\u53ef\u4ee5\u8f49\u6210\u79d2...\n",
      "* ```datetime.utctimetuple()``` ```:``` datetime \u4e5f\u6709"
     ]
    },
    {
     "cell_type": "code",
     "collapsed": false,
     "input": [
      "from datetime import datetime\n",
      "import time    # import time directly\n",
      "\n",
      "dt = datetime(2013, 9 , 22)    # \u7522\u751f datetime \u7269\u4ef6\n",
      "dt_tuple = dt.timetuple()    # \u8f49\u6210 \u001btuple = struct_time\n",
      "utc_timestemp = time.mktime(dt_tuple) # \u54e6~ \u5f97\u5230 timestemp\n",
      "\n",
      "print dt\n",
      "print dt_tuple\n",
      "print utc_timestemp"
     ],
     "language": "python",
     "metadata": {},
     "outputs": [
      {
       "output_type": "stream",
       "stream": "stdout",
       "text": [
        "2013-09-22 00:00:00\n",
        "time.struct_time(tm_year=2013, tm_mon=9, tm_mday=22, tm_hour=0, tm_min=0, tm_sec=0, tm_wday=6, tm_yday=265, tm_isdst=-1)\n",
        "1379779200.0\n"
       ]
      }
     ],
     "prompt_number": 36
    },
    {
     "cell_type": "code",
     "collapsed": false,
     "input": [
      "time.mktime(datetime(2013, 9, 22).timetuple())    # lazy..."
     ],
     "language": "python",
     "metadata": {},
     "outputs": [
      {
       "output_type": "pyout",
       "prompt_number": 37,
       "text": [
        "1379779200.0"
       ]
      }
     ],
     "prompt_number": 37
    },
    {
     "cell_type": "markdown",
     "metadata": {},
     "source": [
      "\u6240\u4ee5\u539f\u5247\u5c31\u662f: \u001bobject -> tuple -> timestemp"
     ]
    },
    {
     "cell_type": "markdown",
     "metadata": {},
     "source": [
      "###Timestemp \u8f49\u6210\u5b57\u4e32\n",
      "\u5f9e db \u88e1\u53d6\u5230\u7684\u503c\u5927\u90e8\u4efd\u90fd\u662f timestemp, \u4f46\u662f\u4eba\u770b\u4e0d\u61c2, \u6240\u4ee5\u5c31\u9700\u8981\u8f49\u63db\n",
      "\n"
     ]
    },
    {
     "cell_type": "code",
     "collapsed": false,
     "input": [
      "import time\n",
      "from datetime import datetime\n",
      "\n",
      "t = time.time()    # \u5047\u8a2d\u73fe\u5728\u7684\u6642\u9593 \n",
      "datetime.fromtimestamp(t)"
     ],
     "language": "python",
     "metadata": {},
     "outputs": [
      {
       "output_type": "pyout",
       "prompt_number": 20,
       "text": [
        "datetime.datetime(2013, 8, 24, 0, 4, 18, 478131)"
       ]
      }
     ],
     "prompt_number": 20
    },
    {
     "cell_type": "markdown",
     "metadata": {},
     "source": [
      "###\u5b98\u65b9\u6709\u5f35\u8868\u6574\u7406\u4e86\u5982\u4f55\u8f49\u63db\u5169\u7a2e\u683c\u5f0f"
     ]
    },
    {
     "cell_type": "code",
     "collapsed": false,
     "input": [
      "import time\n",
      "from datetime import datetime\n",
      "import calendar\n",
      "\n",
      "t = time.time()\n",
      "print t\n",
      "print time.gmtime(t)    # timestemp to struct_time in UTC\n",
      "print time.localtime(t) # timestemp to struct_time in Local\n",
      "\n",
      "struct_t_utc = time.gmtime(t)\n",
      "struct_t_local = time.localtime(t)\n",
      "\n",
      "print calendar.timegm(struct_t_utc)    # struct_time to timestemp in UTC\n",
      "print time.mktime(struct_t_local)      # struct_time to timestemp in Local"
     ],
     "language": "python",
     "metadata": {},
     "outputs": [
      {
       "output_type": "stream",
       "stream": "stdout",
       "text": [
        "1377275472.6\n",
        "time.struct_time(tm_year=2013, tm_mon=8, tm_mday=23, tm_hour=16, tm_min=31, tm_sec=12, tm_wday=4, tm_yday=235, tm_isdst=0)\n",
        "time.struct_time(tm_year=2013, tm_mon=8, tm_mday=24, tm_hour=0, tm_min=31, tm_sec=12, tm_wday=5, tm_yday=236, tm_isdst=0)\n",
        "1377275472\n",
        "1377275472.0\n"
       ]
      }
     ],
     "prompt_number": 35
    },
    {
     "cell_type": "markdown",
     "metadata": {},
     "source": [
      "* \u7531\u4ee5\u4e0a\u53ef\u77e5, struct_time \u662f\u8f49\u63db\u683c\u5f0f\u91cd\u8981\u7684\u5a92\u4ecb, \u5148\u8f49\u6210 struct_time \u5c31\u5c0d\u4e86\n",
      "* \u5728\u5b57\u4e32\u8868\u793a\u7684\u578b\u5f0f\u4e0a UTC \u548c Local \u662f\u6709\u5dee\u7570\u7684, \u8981\u6ce8\u610f\u9019\u9ede\n",
      "* **struct_time_utc <--> timestemp <--> struct_time_local**"
     ]
    },
    {
     "cell_type": "markdown",
     "metadata": {},
     "source": [
      "#Appendix"
     ]
    },
    {
     "cell_type": "markdown",
     "metadata": {},
     "source": [
      "##Date object compare"
     ]
    },
    {
     "cell_type": "code",
     "collapsed": false,
     "input": [
      "dt_object2 = date(2013, 9, 22)\n",
      "dt_object == dt_object2    # object can compare direct"
     ],
     "language": "python",
     "metadata": {},
     "outputs": [
      {
       "output_type": "pyout",
       "prompt_number": 3,
       "text": [
        "True"
       ]
      }
     ],
     "prompt_number": 3
    },
    {
     "cell_type": "markdown",
     "metadata": {},
     "source": [
      "##Timetuple/Struct_time"
     ]
    },
    {
     "cell_type": "code",
     "collapsed": false,
     "input": [
      "time_t = dt_object.timetuple()\n",
      "print time_t    # weekday is wrong!?\n",
      "[i for i in time_t]"
     ],
     "language": "python",
     "metadata": {},
     "outputs": [
      {
       "output_type": "stream",
       "stream": "stdout",
       "text": [
        "time.struct_time(tm_year=2013, tm_mon=9, tm_mday=22, tm_hour=0, tm_min=0, tm_sec=0, tm_wday=6, tm_yday=265, tm_isdst=-1)\n"
       ]
      },
      {
       "output_type": "pyout",
       "prompt_number": 38,
       "text": [
        "[2013, 9, 22, 0, 0, 0, 6, 265, -1]"
       ]
      }
     ],
     "prompt_number": 38
    },
    {
     "cell_type": "code",
     "collapsed": false,
     "input": [
      "import time\n",
      "print dt_object.fromtimestamp(time.time())"
     ],
     "language": "python",
     "metadata": {},
     "outputs": [
      {
       "output_type": "stream",
       "stream": "stdout",
       "text": [
        "2013-08-24\n"
       ]
      }
     ],
     "prompt_number": 39
    }
   ],
   "metadata": {}
  }
 ]
}